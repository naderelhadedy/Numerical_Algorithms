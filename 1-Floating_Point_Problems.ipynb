{
 "cells": [
  {
   "cell_type": "markdown",
   "metadata": {},
   "source": [
    "<div class=\"alert alert-block alert-success\" style=\"font-size:30px\">\n",
    "    <center><b>Nader Mohamed Elhadedy</b></center>\n",
    "</div>"
   ]
  },
  {
   "cell_type": "markdown",
   "metadata": {},
   "source": [
    "> # Convert real value into floating point representation <br>(single format)"
   ]
  },
  {
   "cell_type": "code",
   "execution_count": 1,
   "metadata": {},
   "outputs": [],
   "source": [
    "def convert_to_floating_point(num):\n",
    "    \n",
    "    # convert to binary\n",
    "    def convert_binary(num):\n",
    "        lst = str(num).split(\".\")\n",
    "        l = int(bin(int(lst[0])).lstrip(\"0b\"))\n",
    "        f = float(str(\"0.\") + lst[1])\n",
    "\n",
    "        x = \"\"\n",
    "        while (f < 1 and f != 0):\n",
    "            s = f * 2\n",
    "            if (s < 1):\n",
    "                f = s\n",
    "                x += '0'\n",
    "            else:\n",
    "                f = s - 1\n",
    "                x += '1'\n",
    "\n",
    "        return float(f\"{l}.{x}\")\n",
    "    \n",
    "    # normailze number\n",
    "    def normailze_num(num):\n",
    "        x = 0\n",
    "        while(len(str(num).split(\".\")[0]) != 1):\n",
    "            num /= 10.0\n",
    "            x += 1\n",
    "            if (len(str(num).split(\".\")[0]) == 1):\n",
    "                return num, x\n",
    "    \n",
    "    \n",
    "    \n",
    "    # implement functions\n",
    "    sign = 0 if num > 0 else 1\n",
    "    bin_num = convert_binary(num)\n",
    "    norm_num, pow = normailze_num(bin_num)\n",
    "    expon = int(bin(pow + 127).lstrip(\"0b\"))\n",
    "    power_ex = 8 - len(str(expon))\n",
    "    exponent = str(expon) + str('0'*power_ex)\n",
    "    mant = int(str(norm_num).split(\".\")[1])\n",
    "    power_mant = 23 - len(str(mant))\n",
    "    mantissa = str(mant) + str('0'*power_mant)\n",
    "    \n",
    "    \n",
    "    return str(sign)+str(exponent)+str(mantissa)"
   ]
  },
  {
   "cell_type": "code",
   "execution_count": 2,
   "metadata": {
    "scrolled": true
   },
   "outputs": [
    {
     "data": {
      "text/plain": [
       "'01000010110100110100000000000000'"
      ]
     },
     "execution_count": 2,
     "metadata": {},
     "output_type": "execute_result"
    }
   ],
   "source": [
    "convert_to_floating_point(105.625)"
   ]
  },
  {
   "cell_type": "markdown",
   "metadata": {},
   "source": [
    "> # Convert floating point representation into real value <br>(single format)"
   ]
  },
  {
   "cell_type": "code",
   "execution_count": 3,
   "metadata": {},
   "outputs": [],
   "source": [
    "def convert_to_real_value(num):\n",
    "    \n",
    "    # sign\n",
    "    s = int(str(num)[0])\n",
    "    \n",
    "    # convert to decimal\n",
    "    e = int(str(num)[1:9], 2)\n",
    "    \n",
    "    # get mantissa\n",
    "    m = str(num)[9:]\n",
    "    mant = 0\n",
    "    for ind, itm in enumerate(m):\n",
    "        mant += int(itm) * 2**(-(ind+1))\n",
    "        \n",
    "    return (-1)**s * 2**(e-127) * (1+mant)"
   ]
  },
  {
   "cell_type": "code",
   "execution_count": 4,
   "metadata": {},
   "outputs": [
    {
     "data": {
      "text/plain": [
       "105.625"
      ]
     },
     "execution_count": 4,
     "metadata": {},
     "output_type": "execute_result"
    }
   ],
   "source": [
    "convert_to_real_value('01000010110100110100000000000000')"
   ]
  },
  {
   "cell_type": "markdown",
   "metadata": {},
   "source": [
    "># Pichat's Algorithm"
   ]
  },
  {
   "cell_type": "code",
   "execution_count": 232,
   "metadata": {},
   "outputs": [],
   "source": [
    "def pichat(x, n):\n",
    "    \n",
    "    li = [x for i in range(n)]\n",
    "    s0 = float(li[0])\n",
    "    lst = [0.0 for i in range(len(li))]\n",
    "    e = [0.0 for i in range(len(li))]\n",
    "    lst[0] = s0\n",
    "    \n",
    "    for i in range(len(li)-1):\n",
    "        lst[i+1] = lst[i] + li[i+1]\n",
    "\n",
    "        if lst[i] <= li[i+1]:\n",
    "            e[i] = float((lst[i+1] - lst[i]) - li[i+1])\n",
    "        else:\n",
    "            e[i] = float((lst[i+1] - li[i+1]) - lst[i])\n",
    "\n",
    "    lst[-1] = float(lst[-1] + sum(e[:-1]))\n",
    "    \n",
    "    return lst[-1]"
   ]
  },
  {
   "cell_type": "code",
   "execution_count": 233,
   "metadata": {},
   "outputs": [
    {
     "data": {
      "text/plain": [
       "0.25"
      ]
     },
     "execution_count": 233,
     "metadata": {},
     "output_type": "execute_result"
    }
   ],
   "source": [
    "pichat(0.01, 25)"
   ]
  },
  {
   "cell_type": "code",
   "execution_count": 234,
   "metadata": {},
   "outputs": [
    {
     "data": {
      "text/plain": [
       "0.25000000000000006"
      ]
     },
     "execution_count": 234,
     "metadata": {},
     "output_type": "execute_result"
    }
   ],
   "source": [
    "# without pichat's algorithm\n",
    "sum([0.01 for i in range(25)])"
   ]
  },
  {
   "cell_type": "code",
   "execution_count": null,
   "metadata": {},
   "outputs": [],
   "source": []
  }
 ],
 "metadata": {
  "kernelspec": {
   "display_name": "Python 3",
   "language": "python",
   "name": "python3"
  },
  "language_info": {
   "codemirror_mode": {
    "name": "ipython",
    "version": 3
   },
   "file_extension": ".py",
   "mimetype": "text/x-python",
   "name": "python",
   "nbconvert_exporter": "python",
   "pygments_lexer": "ipython3",
   "version": "3.8.5"
  }
 },
 "nbformat": 4,
 "nbformat_minor": 4
}

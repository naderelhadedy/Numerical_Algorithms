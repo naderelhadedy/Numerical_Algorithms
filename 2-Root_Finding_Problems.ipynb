{
 "cells": [
  {
   "cell_type": "markdown",
   "metadata": {},
   "source": [
    "<div class=\"alert alert-block alert-success\" style=\"font-size:30px\">\n",
    "    <center><b>Nader Mohamed Elhadedy</b></center>\n",
    "</div>"
   ]
  },
  {
   "cell_type": "markdown",
   "metadata": {},
   "source": [
    "># <font color='darkblue'>Bisection Algorithm</font>"
   ]
  },
  {
   "cell_type": "code",
   "execution_count": 12,
   "metadata": {},
   "outputs": [],
   "source": [
    "def Bisection_Algo():\n",
    "\n",
    "    # helping modules\n",
    "    from sympy import sympify, symbols\n",
    "    import math\n",
    "\n",
    "    # handling inputs\n",
    "    eq = input(\"Enter equation: \")\n",
    "    func_range = list(map(float, input(\"Enter interval: \").split(\" \")))\n",
    "    error = sympify(input(\"Enter error value: \"), evaluate=True)\n",
    "\n",
    "    # initializing variables\n",
    "    n = 0\n",
    "    roots = [0, 0]\n",
    "    x = symbols('x')\n",
    "    a = func_range[0]\n",
    "    b = func_range[1]\n",
    "    equation = sympify(eq, evaluate=True)\n",
    "    status = \"out of iterations\"\n",
    "    iterations = math.ceil((math.log(b-a, 10) - math.log(error, 10)) / math.log(2, 10))\n",
    "\n",
    "    # looping till end of iterations\n",
    "    while n < iterations:\n",
    "\n",
    "        if equation.subs(x, a) * equation.subs(x, b) < 0:\n",
    "\n",
    "            new_point = (a+b)/2\n",
    "            roots.append(new_point)\n",
    "\n",
    "            if abs(roots[-1]-roots[-2]) < error:\n",
    "                status = \"root fits error check\"\n",
    "                break\n",
    "            else:\n",
    "                if equation.subs(x, a) * equation.subs(x, new_point) < 0:\n",
    "                    b = new_point\n",
    "                elif equation.subs(x, b) * equation.subs(x, new_point) < 0:\n",
    "                    a = new_point\n",
    "                else:\n",
    "                    status = \"root not found\"\n",
    "                    break\n",
    "        else:\n",
    "            status = \"can't apply bisection method\"\n",
    "            break\n",
    "\n",
    "        n += 1\n",
    "\n",
    "\n",
    "    return f\"Root: {roots[-1]}, Status: {status}\"\n"
   ]
  },
  {
   "cell_type": "markdown",
   "metadata": {},
   "source": [
    "># a)"
   ]
  },
  {
   "cell_type": "code",
   "execution_count": 64,
   "metadata": {},
   "outputs": [
    {
     "name": "stdout",
     "output_type": "stream",
     "text": [
      "Enter equation: x - 2**(-x)\n",
      "Enter interval: 0 1\n",
      "Enter error value: 10**-5\n"
     ]
    },
    {
     "data": {
      "text/plain": [
       "'Root: 0.6411819458007812, Status: root fits error check'"
      ]
     },
     "execution_count": 64,
     "metadata": {},
     "output_type": "execute_result"
    }
   ],
   "source": [
    "Bisection_Algo()"
   ]
  },
  {
   "cell_type": "markdown",
   "metadata": {},
   "source": [
    "># b)"
   ]
  },
  {
   "cell_type": "code",
   "execution_count": 77,
   "metadata": {},
   "outputs": [
    {
     "name": "stdout",
     "output_type": "stream",
     "text": [
      "Enter equation: exp(x) - x**2 + 3*x - 2\n",
      "Enter interval: 0 1\n",
      "Enter error value: 10**-5\n"
     ]
    },
    {
     "data": {
      "text/plain": [
       "'Root: 0.25753021240234375, Status: root fits error check'"
      ]
     },
     "execution_count": 77,
     "metadata": {},
     "output_type": "execute_result"
    }
   ],
   "source": [
    "Bisection_Algo()"
   ]
  },
  {
   "cell_type": "markdown",
   "metadata": {},
   "source": [
    "># c)"
   ]
  },
  {
   "cell_type": "code",
   "execution_count": 67,
   "metadata": {},
   "outputs": [
    {
     "name": "stdout",
     "output_type": "stream",
     "text": [
      "Enter equation: 2*x * cos(2*x) - (x+1)**2\n",
      "Enter interval: -3 -2\n",
      "Enter error value: 10**-5\n"
     ]
    },
    {
     "data": {
      "text/plain": [
       "'Root: -2.1913070678710938, Status: root fits error check'"
      ]
     },
     "execution_count": 67,
     "metadata": {},
     "output_type": "execute_result"
    }
   ],
   "source": [
    "Bisection_Algo()"
   ]
  },
  {
   "cell_type": "code",
   "execution_count": 68,
   "metadata": {},
   "outputs": [
    {
     "name": "stdout",
     "output_type": "stream",
     "text": [
      "Enter equation: 2*x * cos(2*x) - (x+1)**2\n",
      "Enter interval: -1 0\n",
      "Enter error value: 10**-5\n"
     ]
    },
    {
     "data": {
      "text/plain": [
       "'Root: -0.7981643676757812, Status: root fits error check'"
      ]
     },
     "execution_count": 68,
     "metadata": {},
     "output_type": "execute_result"
    }
   ],
   "source": [
    "Bisection_Algo()"
   ]
  },
  {
   "cell_type": "markdown",
   "metadata": {},
   "source": [
    "># d)"
   ]
  },
  {
   "cell_type": "code",
   "execution_count": 78,
   "metadata": {},
   "outputs": [
    {
     "name": "stdout",
     "output_type": "stream",
     "text": [
      "Enter equation: x * cos(x) - 2 * x**2 + 3 * x - 1\n",
      "Enter interval: 0.2 0.3\n",
      "Enter error value: 10**-5\n"
     ]
    },
    {
     "data": {
      "text/plain": [
       "'Root: 0.29752807617187504, Status: root fits error check'"
      ]
     },
     "execution_count": 78,
     "metadata": {},
     "output_type": "execute_result"
    }
   ],
   "source": [
    "Bisection_Algo()"
   ]
  },
  {
   "cell_type": "code",
   "execution_count": 79,
   "metadata": {},
   "outputs": [
    {
     "name": "stdout",
     "output_type": "stream",
     "text": [
      "Enter equation: x * cos(x) - 2 * x**2 + 3 * x - 1\n",
      "Enter interval: 1.2 1.3\n",
      "Enter error value: 10**-5\n"
     ]
    },
    {
     "data": {
      "text/plain": [
       "'Root: 1.256622314453125, Status: root fits error check'"
      ]
     },
     "execution_count": 79,
     "metadata": {},
     "output_type": "execute_result"
    }
   ],
   "source": [
    "Bisection_Algo()"
   ]
  },
  {
   "cell_type": "markdown",
   "metadata": {},
   "source": [
    "># Bisection Problem"
   ]
  },
  {
   "cell_type": "code",
   "execution_count": 13,
   "metadata": {},
   "outputs": [
    {
     "name": "stdout",
     "output_type": "stream",
     "text": [
      "Enter equation: x**3 - 25\n",
      "Enter interval: 2 3\n",
      "Enter error value: 10**-4\n"
     ]
    },
    {
     "data": {
      "text/plain": [
       "'Root: 2.92401123046875, Status: root fits error check'"
      ]
     },
     "execution_count": 13,
     "metadata": {},
     "output_type": "execute_result"
    }
   ],
   "source": [
    "Bisection_Algo()"
   ]
  },
  {
   "cell_type": "markdown",
   "metadata": {},
   "source": [
    "># <font color='darkblue'>Newton Raphson Algorithm</font>"
   ]
  },
  {
   "cell_type": "code",
   "execution_count": 14,
   "metadata": {},
   "outputs": [],
   "source": [
    "def NewtonRaphson_Algo():\n",
    "\n",
    "    # helping modules\n",
    "    from sympy import sympify, symbols\n",
    "    import math\n",
    "\n",
    "    # handling inputs\n",
    "    eq = input(\"Enter equation: \")\n",
    "    start_point = sympify(input(\"Enter start point: \"), evaluate=True)\n",
    "    error = sympify(input(\"Enter error value: \"), evaluate=True)\n",
    "    iterations = sympify(input(\"Enter preferred max iterations: \"), evaluate=True)\n",
    "\n",
    "    # initializing variables\n",
    "    n = 0\n",
    "    x = symbols('x')\n",
    "    roots = [start_point]\n",
    "    status = f\"out of {iterations} iterations\"\n",
    "    equation = sympify(eq, evaluate=True)\n",
    "    \n",
    "\n",
    "    # looping till end of iterations\n",
    "    while n < iterations:\n",
    "\n",
    "        if (equation.diff(x)).subs(x, roots[-1]) != 0:\n",
    "\n",
    "            new_point = roots[-1] - (equation.subs(x, roots[-1])) / ((equation.diff(x)).subs(x, roots[-1]))\n",
    "            roots.append(new_point)\n",
    "\n",
    "            if (abs(roots[-1]-roots[-2])/abs(roots[-2])) < error:\n",
    "                status = \"root fits error check\"\n",
    "                break\n",
    "                \n",
    "        else:\n",
    "            status = \"can't apply newton method\"\n",
    "            break\n",
    "\n",
    "        n += 1\n",
    "\n",
    "\n",
    "    return f\"Root: {round(float(roots[-1]), 6)}, Status: {status}\"\n"
   ]
  },
  {
   "cell_type": "markdown",
   "metadata": {},
   "source": [
    "<div class=\"alert alert-block alert-danger\">\n",
    "    <b>Note:</b> Don't exceed <mark><u>three</u></mark> iterations. That's because above this number, it takes a very long time to run. <br>This also leads to non accurate results in some cases below.\n",
    "</div>"
   ]
  },
  {
   "cell_type": "markdown",
   "metadata": {},
   "source": [
    "># a)"
   ]
  },
  {
   "cell_type": "code",
   "execution_count": 17,
   "metadata": {},
   "outputs": [
    {
     "name": "stdout",
     "output_type": "stream",
     "text": [
      "Enter equation: x**2 - 10 * cos(x)\n",
      "Enter start point: -100\n",
      "Enter error value: 10**-5\n",
      "Enter preferred max iterations: 3\n"
     ]
    },
    {
     "data": {
      "text/plain": [
       "'Root: -11.48422, Status: out of 3 iterations'"
      ]
     },
     "execution_count": 17,
     "metadata": {},
     "output_type": "execute_result"
    }
   ],
   "source": [
    "NewtonRaphson_Algo()"
   ]
  },
  {
   "cell_type": "markdown",
   "metadata": {},
   "source": [
    "># b)"
   ]
  },
  {
   "cell_type": "code",
   "execution_count": 18,
   "metadata": {},
   "outputs": [
    {
     "name": "stdout",
     "output_type": "stream",
     "text": [
      "Enter equation: x**2 - 10 * cos(x)\n",
      "Enter start point: -50\n",
      "Enter error value: 10**-5\n",
      "Enter preferred max iterations: 3\n"
     ]
    },
    {
     "data": {
      "text/plain": [
       "'Root: -1.036989, Status: out of 3 iterations'"
      ]
     },
     "execution_count": 18,
     "metadata": {},
     "output_type": "execute_result"
    }
   ],
   "source": [
    "NewtonRaphson_Algo()"
   ]
  },
  {
   "cell_type": "markdown",
   "metadata": {},
   "source": [
    "># c)"
   ]
  },
  {
   "cell_type": "code",
   "execution_count": 19,
   "metadata": {},
   "outputs": [
    {
     "name": "stdout",
     "output_type": "stream",
     "text": [
      "Enter equation: x**2 - 10 * cos(x)\n",
      "Enter start point: -25\n",
      "Enter error value: 10**-5\n",
      "Enter preferred max iterations: 3\n"
     ]
    },
    {
     "data": {
      "text/plain": [
       "'Root: -3.354955, Status: out of 3 iterations'"
      ]
     },
     "execution_count": 19,
     "metadata": {},
     "output_type": "execute_result"
    }
   ],
   "source": [
    "NewtonRaphson_Algo()"
   ]
  },
  {
   "cell_type": "markdown",
   "metadata": {},
   "source": [
    "># d)"
   ]
  },
  {
   "cell_type": "code",
   "execution_count": 20,
   "metadata": {},
   "outputs": [
    {
     "name": "stdout",
     "output_type": "stream",
     "text": [
      "Enter equation: x**2 - 10 * cos(x)\n",
      "Enter start point: 25\n",
      "Enter error value: 10**-5\n",
      "Enter preferred max iterations: 3\n"
     ]
    },
    {
     "data": {
      "text/plain": [
       "'Root: 3.354955, Status: out of 3 iterations'"
      ]
     },
     "execution_count": 20,
     "metadata": {},
     "output_type": "execute_result"
    }
   ],
   "source": [
    "NewtonRaphson_Algo()"
   ]
  },
  {
   "cell_type": "markdown",
   "metadata": {},
   "source": [
    "># e)"
   ]
  },
  {
   "cell_type": "code",
   "execution_count": 21,
   "metadata": {},
   "outputs": [
    {
     "name": "stdout",
     "output_type": "stream",
     "text": [
      "Enter equation: x**2 - 10 * cos(x)\n",
      "Enter start point: 50\n",
      "Enter error value: 10**-5\n",
      "Enter preferred max iterations: 3\n"
     ]
    },
    {
     "data": {
      "text/plain": [
       "'Root: 1.036989, Status: out of 3 iterations'"
      ]
     },
     "execution_count": 21,
     "metadata": {},
     "output_type": "execute_result"
    }
   ],
   "source": [
    "NewtonRaphson_Algo()"
   ]
  },
  {
   "cell_type": "markdown",
   "metadata": {},
   "source": [
    "># f)"
   ]
  },
  {
   "cell_type": "code",
   "execution_count": 22,
   "metadata": {},
   "outputs": [
    {
     "name": "stdout",
     "output_type": "stream",
     "text": [
      "Enter equation: x**2 - 10 * cos(x)\n",
      "Enter start point: 100\n",
      "Enter error value: 10**-5\n",
      "Enter preferred max iterations: 3\n"
     ]
    },
    {
     "data": {
      "text/plain": [
       "'Root: 11.48422, Status: out of 3 iterations'"
      ]
     },
     "execution_count": 22,
     "metadata": {},
     "output_type": "execute_result"
    }
   ],
   "source": [
    "NewtonRaphson_Algo()"
   ]
  },
  {
   "cell_type": "markdown",
   "metadata": {},
   "source": [
    "># <font color='darkblue'>Fixed Point Iteration Algorithm</font>"
   ]
  },
  {
   "cell_type": "code",
   "execution_count": 23,
   "metadata": {},
   "outputs": [],
   "source": [
    "def FixedPoint_Algo():\n",
    "\n",
    "    # helping modules\n",
    "    from sympy import sympify, symbols\n",
    "    import math\n",
    "\n",
    "    # handling inputs\n",
    "    eq = input(\"Enter remaining equation, consider x in one side: \")\n",
    "    start_point = sympify(input(\"Enter start point: \"), evaluate=True)\n",
    "    error = sympify(input(\"Enter error value: \"), evaluate=True)\n",
    "    func_range = list(map(sympify, input(\"Enter interval: \").split(\" \")))\n",
    "    iterations = sympify(input(\"Enter preferred max iterations: \"), evaluate=True)\n",
    "\n",
    "    # initializing variables\n",
    "    n = 0\n",
    "    a = func_range[0]\n",
    "    b = func_range[1]\n",
    "    x = symbols('x')\n",
    "    roots = [start_point]\n",
    "    status = f\"out of {iterations} iterations\"\n",
    "    equation = sympify(eq, evaluate=True)\n",
    "    \n",
    "\n",
    "    # looping till end of iterations\n",
    "    while n < iterations:\n",
    "\n",
    "        if a <= start_point <= b:\n",
    "\n",
    "            new_point = equation.subs(x, roots[-1])\n",
    "            roots.append(new_point)\n",
    "\n",
    "            if abs(roots[-1]-roots[-2]) < error:\n",
    "                status = \"root fits error check\"\n",
    "                break\n",
    "            else:\n",
    "                start_point = roots[-1]\n",
    "                \n",
    "        else:\n",
    "            status = \"can't apply fixed point iteration method\"\n",
    "            break\n",
    "\n",
    "        n += 1\n",
    "\n",
    "\n",
    "    return f\"Root: {round(float(roots[-1]), 6)}, Status: {status}\"\n"
   ]
  },
  {
   "cell_type": "markdown",
   "metadata": {},
   "source": [
    "<div class=\"alert alert-block alert-warning\">\n",
    "    <b>Note:</b> We added <mark><u>2x</u></mark> to the original equation in both sides and then divided by <mark><u>2</u></mark> in order to get x in one side and also to get efficient working equation.\n",
    "</div>"
   ]
  },
  {
   "cell_type": "code",
   "execution_count": 24,
   "metadata": {},
   "outputs": [
    {
     "name": "stdout",
     "output_type": "stream",
     "text": [
      "Enter remaining equation, consider x in one side: (x**3 + x - 1) ** (1/2)\n",
      "Enter start point: 1\n",
      "Enter error value: 10**-2\n",
      "Enter interval: 1 2\n",
      "Enter preferred max iterations: 30\n"
     ]
    },
    {
     "data": {
      "text/plain": [
       "'Root: 1.0, Status: root fits error check'"
      ]
     },
     "execution_count": 24,
     "metadata": {},
     "output_type": "execute_result"
    }
   ],
   "source": [
    "FixedPoint_Algo()"
   ]
  },
  {
   "cell_type": "markdown",
   "metadata": {},
   "source": [
    "<hr style=\"color:black\">"
   ]
  },
  {
   "cell_type": "markdown",
   "metadata": {},
   "source": [
    "># <font color='darkblue'>Accelerating Convergence <sub>'Aitken's Method vs Steffensen's Method'</sub></font>"
   ]
  },
  {
   "cell_type": "markdown",
   "metadata": {},
   "source": [
    "**[Source1](https://www3.nd.edu/~zxu2/acms40390F12/Lec-2.5.pdf)**"
   ]
  },
  {
   "cell_type": "markdown",
   "metadata": {},
   "source": [
    "<p style=\"color:tomato\">This is a good source listing accelerating convergance methods and showing the difference between Aitken's Method and Steffensen's Method with their theorem and implementation.</p>"
   ]
  },
  {
   "cell_type": "markdown",
   "metadata": {},
   "source": [
    "**[Source2](https://www.tandfonline.com/doi/pdf/10.1080/23311835.2017.1308622)**"
   ]
  },
  {
   "cell_type": "markdown",
   "metadata": {},
   "source": [
    "<p style=\"color:mediumseagreen\">This is also a good source listing Aitken's Method with its implementation with the help of plots in addition to the extended method.</p>"
   ]
  },
  {
   "cell_type": "markdown",
   "metadata": {},
   "source": [
    "**[Source3](https://homepages.dias.ie/leitner/MS213-material-for-website/NA9_A_Steffensen.pdf)**"
   ]
  },
  {
   "cell_type": "markdown",
   "metadata": {},
   "source": [
    "<p style=\"color:grey\">This is also another source showing the difference between both and listing the implementation of Steffensen's Method and its theorem.</p>"
   ]
  },
  {
   "cell_type": "code",
   "execution_count": null,
   "metadata": {},
   "outputs": [],
   "source": []
  }
 ],
 "metadata": {
  "kernelspec": {
   "display_name": "Python 3",
   "language": "python",
   "name": "python3"
  },
  "language_info": {
   "codemirror_mode": {
    "name": "ipython",
    "version": 3
   },
   "file_extension": ".py",
   "mimetype": "text/x-python",
   "name": "python",
   "nbconvert_exporter": "python",
   "pygments_lexer": "ipython3",
   "version": "3.8.5"
  }
 },
 "nbformat": 4,
 "nbformat_minor": 4
}
